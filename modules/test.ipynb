{
 "nbformat": 4,
 "nbformat_minor": 2,
 "metadata": {
  "language_info": {
   "name": "python",
   "codemirror_mode": {
    "name": "ipython",
    "version": 3
   },
   "version": "3.7.4"
  },
  "orig_nbformat": 2,
  "file_extension": ".py",
  "mimetype": "text/x-python",
  "name": "python",
  "npconvert_exporter": "python",
  "pygments_lexer": "ipython3",
  "version": 3
 },
 "cells": [
  {
   "cell_type": "code",
   "execution_count": 1,
   "metadata": {},
   "outputs": [],
   "source": [
    "from tesimodules import Classificator as cs, Splitter\n",
    "import pandas as pd\n",
    "import numpy as np\n",
    "import importlib\n",
    "from sklearn.preprocessing import StandardScaler\n",
    "\n",
    "source = 'https://archive.ics.uci.edu/ml/machine-learning-databases/iris/iris.data'\n",
    "\n",
    "iris_df = pd.read_csv(\n",
    "    filepath_or_buffer=source,\n",
    "    header=None,\n",
    "    sep=',')\n",
    "\n",
    "iris_df.columns=['sepal_len', 'sepal_wid', 'petal_len', 'petal_wid', 'class']\n",
    "iris_df.dropna(how=\"all\", inplace=True) # drops the empty line at file-end\n",
    "\n",
    "iris_values = iris_df.iloc[:,0:4].values\n",
    "iris_labels = iris_df.iloc[:,4].values\n",
    "\n",
    "iris_values_std = StandardScaler().fit_transform(iris_values)"
   ]
  },
  {
   "cell_type": "code",
   "execution_count": 7,
   "metadata": {},
   "outputs": [
    {
     "name": "stdout",
     "output_type": "stream",
     "text": "[ 58  99   0 104 133  52  26  59 129  64 123  74  83  44 105   8 125  89\n 126 117  68 127  46 147  61  79   5  75   7  80  33  21 115 135  78  19\n   6  93  30 149  42   3 138  57 137   1  72  48  27 132  20  92 128  37\n 136  17  51  86 122 144 109 108  22 148  84   9  56  88  97 146  66   4\n  45  77 120 101 141 116 114  38  23  70 121 111  25  41  81  67 106  71]\n[130  32  55 119  29 145  65 102 110 107  13  40 112  10  35  96 140  62\n 113  50  53  18  76 143  82  85  47 100  90  31  11  95  36 131 134  12\n  54  98  91  16  49  28  69  34   2  73  87 103  60  63 139 124  15  43\n  24  14  39 118 142  94]\n"
    }
   ],
   "source": [
    "model = cs.Model_PL(c=1, sigma=5, path=\"./model\", model_name=\"iris-model#7\")\n",
    "\n",
    "train_values, train_labels, test_values, test_labels, train_indices, test_indices = Splitter.split_train_test_dataset(iris_values_std, iris_labels)"
   ]
  },
  {
   "cell_type": "code",
   "execution_count": 8,
   "metadata": {},
   "outputs": [
    {
     "name": "stdout",
     "output_type": "stream",
     "text": "FUNCTION Iris-setosa:\n - MEMBERSHIP FUNCTION: <function LinearFuzzifier.get_fuzzified_membership.<locals>.estimated_membership at 0x114477a70> \n - SECONDS: 5.79\n - MINUTES: 0.10\nFUNCTION Iris-versicolor:\n - MEMBERSHIP FUNCTION: <function LinearFuzzifier.get_fuzzified_membership.<locals>.estimated_membership at 0x1a19578170> \n - SECONDS: 5.48\n - MINUTES: 0.09\nFUNCTION Iris-virginica:\n - MEMBERSHIP FUNCTION: <function LinearFuzzifier.get_fuzzified_membership.<locals>.estimated_membership at 0x1a19578c20> \n - SECONDS: 5.73\n - MINUTES: 0.10\n"
    },
    {
     "data": {
      "text/plain": "Model_PL(c=1, model_name='iris-model#7', path='./model', sigma=5)"
     },
     "execution_count": 8,
     "metadata": {},
     "output_type": "execute_result"
    }
   ],
   "source": [
    "model.fit(train_values, train_labels=list(zip(train_indices, train_labels)), mu=cs.Get_mu(iris_labels))"
   ]
  },
  {
   "cell_type": "code",
   "execution_count": 9,
   "metadata": {},
   "outputs": [
    {
     "data": {
      "text/plain": "0.9666666666666667"
     },
     "execution_count": 9,
     "metadata": {},
     "output_type": "execute_result"
    }
   ],
   "source": [
    "model.score(test_values, test_labels, labels_indexed=False)"
   ]
  },
  {
   "cell_type": "code",
   "execution_count": 15,
   "metadata": {},
   "outputs": [
    {
     "name": "stdout",
     "output_type": "stream",
     "text": "Fitting 3 folds for each of 8 candidates, totalling 24 fits\n[Parallel(n_jobs=-1)]: Using backend LokyBackend with 4 concurrent workers.\n[Parallel(n_jobs=-1)]: Done   5 tasks      | elapsed:   38.8s\n[Parallel(n_jobs=-1)]: Done  10 tasks      | elapsed:   56.7s\n[Parallel(n_jobs=-1)]: Done  17 tasks      | elapsed:  1.6min\n[Parallel(n_jobs=-1)]: Done  20 out of  24 | elapsed:  1.6min remaining:   19.0s\n[Parallel(n_jobs=-1)]: Done  24 out of  24 | elapsed:  1.9min finished\nFUNCTION Iris-setosa:\n - MEMBERSHIP FUNCTION: <function LinearFuzzifier.get_fuzzified_membership.<locals>.estimated_membership at 0x1a195789e0> \n - SECONDS: 5.17\n - MINUTES: 0.09\nFUNCTION Iris-versicolor:\n - MEMBERSHIP FUNCTION: <function LinearFuzzifier.get_fuzzified_membership.<locals>.estimated_membership at 0x1a19554290> \n - SECONDS: 4.53\n - MINUTES: 0.08\nFUNCTION Iris-virginica:\n - MEMBERSHIP FUNCTION: <function LinearFuzzifier.get_fuzzified_membership.<locals>.estimated_membership at 0x1a19554320> \n - SECONDS: 4.83\n - MINUTES: 0.08\n"
    },
    {
     "data": {
      "text/plain": "GridSearchCV(cv=KFold(n_splits=3, random_state=None, shuffle=True),\n             error_score='raise-deprecating',\n             estimator=Model_PL(c=1, model_name='iris-model#7', path='./model',\n                                sigma=5),\n             iid='warn', n_jobs=-1,\n             param_grid={'c': [1, 10000], 'sigma': [0.1, 0.25, 0.225, 0.5]},\n             pre_dispatch='2*n_jobs', refit=True, return_train_score=False,\n             scoring=None, verbose=10)"
     },
     "execution_count": 15,
     "metadata": {},
     "output_type": "execute_result"
    }
   ],
   "source": [
    "from sklearn.model_selection import GridSearchCV\n",
    "from sklearn.model_selection import KFold\n",
    "\n",
    "kf = KFold(n_splits=3, shuffle=True)\n",
    "\n",
    "clf = GridSearchCV(model, {'c':[1, 10000], 'sigma': [.1, .25, .225, .5,]}, cv=kf, n_jobs=-1, verbose=10)\n",
    "clf.fit(train_values, list(zip(train_indices, train_labels)), mu=cs.Get_mu(iris_labels))"
   ]
  },
  {
   "cell_type": "code",
   "execution_count": 16,
   "metadata": {},
   "outputs": [
    {
     "data": {
      "text/plain": "{'mean_fit_time': array([18.00530505, 16.82060512, 16.91378808, 17.50713062, 19.64899651,\n        18.02194802, 17.92449665, 18.35595655]),\n 'std_fit_time': array([0.0803537 , 0.68036478, 0.52449282, 0.02632895, 0.08297109,\n        1.13382451, 0.44710204, 0.08206828]),\n 'mean_score_time': array([0.27825761, 0.28243534, 0.32209293, 0.31688436, 0.34524401,\n        0.29349136, 0.25936937, 0.22443382]),\n 'std_score_time': array([0.0094624 , 0.00850469, 0.03478446, 0.03966733, 0.05221296,\n        0.02619739, 0.00656227, 0.04316553]),\n 'param_c': masked_array(data=[1, 1, 1, 1, 10000, 10000, 10000, 10000],\n              mask=[False, False, False, False, False, False, False, False],\n        fill_value='?',\n             dtype=object),\n 'param_sigma': masked_array(data=[0.1, 0.25, 0.225, 0.5, 0.1, 0.25, 0.225, 0.5],\n              mask=[False, False, False, False, False, False, False, False],\n        fill_value='?',\n             dtype=object),\n 'params': [{'c': 1, 'sigma': 0.1},\n  {'c': 1, 'sigma': 0.25},\n  {'c': 1, 'sigma': 0.225},\n  {'c': 1, 'sigma': 0.5},\n  {'c': 10000, 'sigma': 0.1},\n  {'c': 10000, 'sigma': 0.25},\n  {'c': 10000, 'sigma': 0.225},\n  {'c': 10000, 'sigma': 0.5}],\n 'split0_test_score': array([0.96666667, 1.        , 1.        , 0.93333333, 0.96666667,\n        1.        , 1.        , 0.93333333]),\n 'split1_test_score': array([0.93333333, 0.9       , 0.9       , 0.93333333, 0.93333333,\n        0.9       , 0.9       , 0.93333333]),\n 'split2_test_score': array([0.86666667, 0.9       , 0.9       , 0.93333333, 0.86666667,\n        0.9       , 0.9       , 0.93333333]),\n 'mean_test_score': array([0.92222222, 0.93333333, 0.93333333, 0.93333333, 0.92222222,\n        0.93333333, 0.93333333, 0.93333333]),\n 'std_test_score': array([0.04157397, 0.04714045, 0.04714045, 0.        , 0.04157397,\n        0.04714045, 0.04714045, 0.        ]),\n 'rank_test_score': array([7, 1, 1, 1, 7, 1, 1, 1], dtype=int32)}"
     },
     "execution_count": 16,
     "metadata": {},
     "output_type": "execute_result"
    }
   ],
   "source": [
    "clf.cv_results_"
   ]
  },
  {
   "cell_type": "code",
   "execution_count": 17,
   "metadata": {},
   "outputs": [
    {
     "data": {
      "text/plain": "1"
     },
     "execution_count": 17,
     "metadata": {},
     "output_type": "execute_result"
    }
   ],
   "source": [
    "clf.best_index_"
   ]
  },
  {
   "cell_type": "code",
   "execution_count": null,
   "metadata": {},
   "outputs": [],
   "source": []
  },
  {
   "source": [
    "from tesimodules.ModelSelection import GridSearchCV as gs\n",
    "\n",
    "clf = gs(model, )"
   ],
   "cell_type": "code",
   "outputs": [],
   "metadata": {},
   "execution_count": 2
  }
 ]
}