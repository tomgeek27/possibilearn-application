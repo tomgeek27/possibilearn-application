{
 "nbformat": 4,
 "nbformat_minor": 2,
 "metadata": {
  "language_info": {
   "name": "python",
   "codemirror_mode": {
    "name": "ipython",
    "version": 3
   },
   "version": "3.7.5-final"
  },
  "orig_nbformat": 2,
  "file_extension": ".py",
  "mimetype": "text/x-python",
  "name": "python",
  "npconvert_exporter": "python",
  "pygments_lexer": "ipython3",
  "version": 3,
  "kernelspec": {
   "name": "python37564bittesicondaabfc430110484a8e968c15a0e052e5a5",
   "display_name": "Python 3.7.5 64-bit ('tesi': conda)"
  }
 },
 "cells": [
  {
   "source": [
    "import pandas as pd\n",
    "import numpy as np\n",
    "import importlib\n",
    "from sklearn.preprocessing import StandardScaler\n",
    "\n",
    "source = 'https://archive.ics.uci.edu/ml/machine-learning-databases/iris/iris.data'\n",
    "\n",
    "iris_df = pd.read_csv(\n",
    "    filepath_or_buffer=source,\n",
    "    header=None,\n",
    "    sep=',')\n",
    "\n",
    "iris_df.columns=['sepal_len', 'sepal_wid', 'petal_len', 'petal_wid', 'class']\n",
    "iris_df.dropna(how=\"all\", inplace=True) # drops the empty line at file-end\n",
    "\n",
    "iris_values = iris_df.iloc[:,0:4].values\n",
    "iris_labels = iris_df.iloc[:,4].values\n",
    "iris_values_std = StandardScaler().fit_transform(iris_values)\n",
    "\n",
    "iris_values_std_ = list(map(lambda x: np.array(x), iris_values_std))\n",
    "\n",
    "def labelStr2labelInt(elem):\n",
    "    if(elem == 'Iris-virginica'):\n",
    "        return 0\n",
    "    elif(elem == 'Iris-setosa'):\n",
    "        return 1\n",
    "    elif(elem == 'Iris-versicolor'):\n",
    "        return 2\n",
    "    else:\n",
    "        raise ValueError(\"\")\n",
    "\n",
    "iris_labels_ = list(map(labelStr2labelInt, iris_labels))\n",
    "\n",
    "iris_df"
   ],
   "cell_type": "code",
   "outputs": [
    {
     "output_type": "execute_result",
     "data": {
      "text/html": "<div>\n<style scoped>\n    .dataframe tbody tr th:only-of-type {\n        vertical-align: middle;\n    }\n\n    .dataframe tbody tr th {\n        vertical-align: top;\n    }\n\n    .dataframe thead th {\n        text-align: right;\n    }\n</style>\n<table border=\"1\" class=\"dataframe\">\n  <thead>\n    <tr style=\"text-align: right;\">\n      <th></th>\n      <th>sepal_len</th>\n      <th>sepal_wid</th>\n      <th>petal_len</th>\n      <th>petal_wid</th>\n      <th>class</th>\n    </tr>\n  </thead>\n  <tbody>\n    <tr>\n      <th>0</th>\n      <td>5.1</td>\n      <td>3.5</td>\n      <td>1.4</td>\n      <td>0.2</td>\n      <td>Iris-setosa</td>\n    </tr>\n    <tr>\n      <th>1</th>\n      <td>4.9</td>\n      <td>3.0</td>\n      <td>1.4</td>\n      <td>0.2</td>\n      <td>Iris-setosa</td>\n    </tr>\n    <tr>\n      <th>2</th>\n      <td>4.7</td>\n      <td>3.2</td>\n      <td>1.3</td>\n      <td>0.2</td>\n      <td>Iris-setosa</td>\n    </tr>\n    <tr>\n      <th>3</th>\n      <td>4.6</td>\n      <td>3.1</td>\n      <td>1.5</td>\n      <td>0.2</td>\n      <td>Iris-setosa</td>\n    </tr>\n    <tr>\n      <th>4</th>\n      <td>5.0</td>\n      <td>3.6</td>\n      <td>1.4</td>\n      <td>0.2</td>\n      <td>Iris-setosa</td>\n    </tr>\n    <tr>\n      <th>...</th>\n      <td>...</td>\n      <td>...</td>\n      <td>...</td>\n      <td>...</td>\n      <td>...</td>\n    </tr>\n    <tr>\n      <th>145</th>\n      <td>6.7</td>\n      <td>3.0</td>\n      <td>5.2</td>\n      <td>2.3</td>\n      <td>Iris-virginica</td>\n    </tr>\n    <tr>\n      <th>146</th>\n      <td>6.3</td>\n      <td>2.5</td>\n      <td>5.0</td>\n      <td>1.9</td>\n      <td>Iris-virginica</td>\n    </tr>\n    <tr>\n      <th>147</th>\n      <td>6.5</td>\n      <td>3.0</td>\n      <td>5.2</td>\n      <td>2.0</td>\n      <td>Iris-virginica</td>\n    </tr>\n    <tr>\n      <th>148</th>\n      <td>6.2</td>\n      <td>3.4</td>\n      <td>5.4</td>\n      <td>2.3</td>\n      <td>Iris-virginica</td>\n    </tr>\n    <tr>\n      <th>149</th>\n      <td>5.9</td>\n      <td>3.0</td>\n      <td>5.1</td>\n      <td>1.8</td>\n      <td>Iris-virginica</td>\n    </tr>\n  </tbody>\n</table>\n<p>150 rows × 5 columns</p>\n</div>",
      "text/plain": "     sepal_len  sepal_wid  petal_len  petal_wid           class\n0          5.1        3.5        1.4        0.2     Iris-setosa\n1          4.9        3.0        1.4        0.2     Iris-setosa\n2          4.7        3.2        1.3        0.2     Iris-setosa\n3          4.6        3.1        1.5        0.2     Iris-setosa\n4          5.0        3.6        1.4        0.2     Iris-setosa\n..         ...        ...        ...        ...             ...\n145        6.7        3.0        5.2        2.3  Iris-virginica\n146        6.3        2.5        5.0        1.9  Iris-virginica\n147        6.5        3.0        5.2        2.0  Iris-virginica\n148        6.2        3.4        5.4        2.3  Iris-virginica\n149        5.9        3.0        5.1        1.8  Iris-virginica\n\n[150 rows x 5 columns]"
     },
     "metadata": {},
     "execution_count": 4
    }
   ],
   "metadata": {},
   "execution_count": 4
  },
  {
   "source": [
    "import fuzzylearn as fl\n",
    "from fuzzylearn import fuzzifiers as ff\n",
    "from sklearn.model_selection import train_test_split\n",
    "from sklearn.neighbors import KNeighborsClassifier\n",
    "import importlib\n",
    "\n",
    "importlib.reload(fl)\n",
    "\n",
    "X_train, X_test, y_train, y_test = train_test_split(iris_values_std_, iris_labels, random_state=9098, test_size=0.1)\n",
    "\n",
    "len_train = len(y_train)\n",
    "\n",
    "mu_setosa = [1 if y_train[i] == 'Iris-setosa' else 0 for i in range(len_train)]\n",
    "mu_versicolor = [1 if y_train[i] == 'Iris-versicolor' else 0 for i in range(len_train)]\n",
    "mu_virginica = [1 if y_train[i] == 'Iris-virginica' else 0 for i in range(len_train)]\n",
    "model_setosa = fl.FuzzyInductor()\n",
    "model_versicolor = fl.FuzzyInductor()\n",
    "model_virginica = fl.FuzzyInductor()\n",
    "sum(mu_setosa) + sum(mu_virginica) + sum(mu_versicolor) == len_train"
   ],
   "cell_type": "code",
   "outputs": [
    {
     "output_type": "stream",
     "name": "stdout",
     "text": "gurobi not available\n"
    },
    {
     "output_type": "execute_result",
     "data": {
      "text/plain": "True"
     },
     "metadata": {},
     "execution_count": 18
    }
   ],
   "metadata": {},
   "execution_count": 18
  },
  {
   "source": [
    "model_setosa.fit(X_train, mu_setosa)\n",
    "model_virginica.fit(X_train, mu_virginica)\n",
    "model_versicolor.fit(X_train, mu_versicolor)"
   ],
   "cell_type": "code",
   "outputs": [
    {
     "output_type": "stream",
     "name": "stderr",
     "text": "100%|██████████| 100/100 [01:42<00:00,  1.02s/it]\n{}\n[0, 0.0076040556, 0.0074859797, 0.0074363365, 0.007427712, 0, 0.007438513, 0.007406278, 0, 0, 0, 0, 0.007442372, 0.0074709766, 0, 0, 0, 0, 0, 0, 0, 0, 0, 0.0074668, 0, 0, 0, 0.00743944, 0, 0, 0.0074078324, 0, 0, 0.0074381423, 0, 0.00742009, 0, 0.007442372, 0, 0, 0, 0.007480395, 0, 0, 0.00754238, 0.0074168798, 0, 0, 0.007422069, 0, 0, 0, 0, 0, 0, 0, 0.0074405447, 0, 0, 0, 0, 0.007403871, 0.007537529, 0, 0, 0.007418142, 0, 0.0075457306, 0.007442372, 0.007475999, 0, 0, 0.007495836, 0.0076096533, 0, 0.007692647, 0, 0, 0, 0.007463602, 0.0075126784, 0.0074949777, 0, 0, 0.0074570007, 0, 0.007404972, 0, 0.007430319, 0, 0, 0.00743876, 0, 0, 0, 0, 0.0074676503, 0, 0, 0, 0.0075430553, 0, 0, 0, 0, 0, 0, 0, 0, 0, 0.0075399117, 0, 0, 0.007416207, 0.0075049186, 0.0074171857, 0.0074126977, 0, 0, 0, 0, 0, 0, 0, 0, 0, 0.0076369364, 0, 0, 0.0074749365, 0, 0.0077022645, 0, 0.0074141636, 0]\nIndices SV: [1, 2, 3, 4, 6, 7, 12, 13, 23, 27, 30, 33, 35, 37, 41, 44, 45, 48, 56, 61, 62, 65, 67, 68, 69, 72, 73, 75, 79, 80, 81, 84, 86, 88, 91, 96, 100, 110, 113, 114, 115, 116, 126, 129, 131, 133]\n100%|██████████| 100/100 [01:48<00:00,  1.08s/it]\n{}\n[0.0075094034, 0, 0, 0, 0, 0, 0, 0, 0, 0.0072499416, 0, 0.007282391, 0, 0, 0.0077237235, 0.007265388, 0, 0.00727005, 0, 0, 0, 0, 0.007331447, 0, 0.0072514135, 0.0074213124, 0, 0, 0.0073240832, 0, 0, 0, 0.007574667, 0, 0.007488727, 0, 0.0074123116, 0, 0.0073030577, 0.007435852, 0.007439056, 0, 0, 0, 0, 0, 0.0073338444, 0, 0, 0, 0, 0, 0, 0, 0.007606842, 0, 0, 0.0072881216, 0, 0, 0.0074224803, 0, 0, 0.007340653, 0, 0, 0, 0, 0, 0, 0, 0.0075098504, 0, 0, 0, 0, 0.007346874, 0, 0.0075352406, 0, 0, 0, 0, 0, 0, 0.007492737, 0, 0, 0, 0.007442733, 0, 0, 0.0073732757, 0.0075881444, 0, 0.007275746, 0, 0, 0, 0.007362035, 0, 0, 0, 0.0073900535, 0.007331447, 0.007348734, 0.0072617177, 0.0073924684, 0, 0.0074579474, 0, 0, 0.0075114737, 0, 0, 0, 0, 0, 0.007448257, 0, 0, 0.0075687617, 0, 0.007370507, 0.0074435887, 0.007410191, 0, 0, 0.0072767246, 0, 0.0073668356, 0, 0.0076585007, 0, 0]\nIndices SV: [0, 9, 11, 14, 15, 17, 22, 24, 25, 28, 32, 34, 36, 38, 39, 40, 46, 54, 57, 60, 63, 71, 76, 78, 85, 89, 92, 93, 95, 99, 103, 104, 105, 106, 107, 109, 112, 118, 121, 123, 124, 125, 128, 130, 132]\n100%|██████████| 100/100 [01:47<00:00,  1.07s/it]\n{}\n[0, 0, 0, 0, 0, 0.0073487977, 0, 0, 0.0074504684, 0, 0.007566073, 0, 0, 0, 0, 0, 0.007432894, 0, 0.0075461334, 0.007500063, 0.007356606, 0.0073066116, 0, 0, 0, 0, 0.007319324, 0, 0, 0.007369976, 0, 0.0074847965, 0, 0, 0, 0, 0, 0, 0, 0, 0, 0, 0.0074588093, 0.0072984523, 0, 0, 0, 0.007372589, 0, 0.007351555, 0.007423394, 0.0073346756, 0.007373552, 0.0072843833, 0, 0.00737706, 0, 0, 0.0075912704, 0.0073900064, 0, 0, 0, 0, 0.007341576, 0, 0.00728879, 0, 0, 0, 0.0072750025, 0, 0, 0, 0.0072468645, 0, 0, 0.0072918045, 0, 0, 0, 0, 0.0073924894, 0.0072656604, 0, 0, 0, 0.007340181, 0, 0, 0.0072792387, 0, 0, 0, 0.0073527712, 0, 0, 0.0073626703, 0.0075369724, 0, 0, 0.0072978255, 0.007331753, 0, 0, 0, 0, 0, 0.0073175584, 0, 0, 0.007367455, 0, 0, 0, 0, 0, 0.0074321125, 0, 0.0076766037, 0.0073424084, 0, 0.0072486475, 0, 0, 0, 0, 0.0073168897, 0, 0, 0, 0, 0, 0, 0.007274735]\nIndices SV: [5, 8, 10, 16, 18, 19, 20, 21, 26, 29, 31, 42, 43, 47, 49, 50, 51, 52, 53, 55, 58, 59, 64, 66, 70, 74, 77, 82, 83, 87, 90, 94, 97, 98, 101, 102, 108, 111, 117, 119, 120, 122, 127, 134]\n"
    },
    {
     "output_type": "execute_result",
     "data": {
      "text/plain": "FuzzyInductor(c=1,\n              fuzzifier=<class 'fuzzylearn.fuzzifiers.ExponentialFuzzifier'>,\n              k=GaussianKernel(1), random_state=None, return_profile=False,\n              return_vars=False,\n              sample_generator=<function FuzzyInductor.fit.<locals>.<lambda> at 0x7f7ad97b3ef0>,\n              solve_strategy=(<function solve_optimization_tensorflow at 0x7f7ad9aee710>,\n                              {}))"
     },
     "metadata": {},
     "execution_count": 19
    }
   ],
   "metadata": {},
   "execution_count": 19
  },
  {
   "source": [
    "probs = list(zip(map(lambda x: ('Iris-virginica', x), model_virginica.predict(X_test)), map(lambda x: ('Iris-setosa', x), model_setosa.predict(X_test)), map(lambda x: ('Iris-versicolor', x), model_versicolor.predict(X_test))))\n",
    "results = []\n",
    "for i in range(len(probs)):\n",
    "    results.append(sorted(probs[i], key=lambda tup: tup[1])[-1][0])\n",
    "\n",
    "sum([1 if i[0] == i[1] else 0 for i in list(zip(results, y_test))])/len(y_test)"
   ],
   "cell_type": "code",
   "outputs": [
    {
     "output_type": "execute_result",
     "data": {
      "text/plain": "1.0"
     },
     "metadata": {},
     "execution_count": 20
    }
   ],
   "metadata": {},
   "execution_count": 20
  },
  {
   "source": [
    "probs = list(zip(map(lambda x: ('Iris-virginica', x), model_virginica.predict(X_train)), map(lambda x: ('Iris-setosa', x), model_setosa.predict(X_train)), map(lambda x: ('Iris-versicolor', x), model_versicolor.predict(X_train))))\n",
    "results = []\n",
    "for i in range(len(probs)):\n",
    "    results.append(sorted(probs[i], key=lambda tup: tup[1])[-1][0])\n",
    "\n",
    "sum([1 if i[0] == i[1] else 0 for i in list(zip(results, y_train))])/len(y_train)"
   ],
   "cell_type": "code",
   "outputs": [
    {
     "output_type": "execute_result",
     "data": {
      "text/plain": "0.9333333333333333"
     },
     "metadata": {},
     "execution_count": 21
    }
   ],
   "metadata": {},
   "execution_count": 21
  },
  {
   "cell_type": "code",
   "execution_count": 26,
   "metadata": {},
   "outputs": [
    {
     "ename": "NameError",
     "evalue": "name 'cs' is not defined",
     "output_type": "error",
     "traceback": [
      "\u001b[0;31m---------------------------------------------------------------------------\u001b[0m",
      "\u001b[0;31mNameError\u001b[0m                                 Traceback (most recent call last)",
      "\u001b[0;32m<ipython-input-26-b7181464f882>\u001b[0m in \u001b[0;36m<module>\u001b[0;34m\u001b[0m\n\u001b[0;32m----> 1\u001b[0;31m \u001b[0mmodel\u001b[0m \u001b[0;34m=\u001b[0m \u001b[0mcs\u001b[0m\u001b[0;34m.\u001b[0m\u001b[0mModel_PL\u001b[0m\u001b[0;34m(\u001b[0m\u001b[0mc\u001b[0m\u001b[0;34m=\u001b[0m\u001b[0;36m1\u001b[0m\u001b[0;34m,\u001b[0m \u001b[0msigma\u001b[0m\u001b[0;34m=\u001b[0m\u001b[0;36m5\u001b[0m\u001b[0;34m,\u001b[0m \u001b[0mpath\u001b[0m\u001b[0;34m=\u001b[0m\u001b[0;34m\"./model\"\u001b[0m\u001b[0;34m,\u001b[0m \u001b[0mmodel_name\u001b[0m\u001b[0;34m=\u001b[0m\u001b[0;34m\"iris-model#7\"\u001b[0m\u001b[0;34m)\u001b[0m\u001b[0;34m\u001b[0m\u001b[0;34m\u001b[0m\u001b[0m\n\u001b[0m\u001b[1;32m      2\u001b[0m \u001b[0;34m\u001b[0m\u001b[0m\n\u001b[1;32m      3\u001b[0m \u001b[0mtrain_values\u001b[0m\u001b[0;34m,\u001b[0m \u001b[0mtrain_labels\u001b[0m\u001b[0;34m,\u001b[0m \u001b[0mtest_values\u001b[0m\u001b[0;34m,\u001b[0m \u001b[0mtest_labels\u001b[0m\u001b[0;34m,\u001b[0m \u001b[0mtrain_indices\u001b[0m\u001b[0;34m,\u001b[0m \u001b[0mtest_indices\u001b[0m \u001b[0;34m=\u001b[0m \u001b[0mSplitter\u001b[0m\u001b[0;34m.\u001b[0m\u001b[0msplit_train_test_dataset\u001b[0m\u001b[0;34m(\u001b[0m\u001b[0miris_values_std\u001b[0m\u001b[0;34m,\u001b[0m \u001b[0miris_labels\u001b[0m\u001b[0;34m)\u001b[0m\u001b[0;34m\u001b[0m\u001b[0;34m\u001b[0m\u001b[0m\n",
      "\u001b[0;31mNameError\u001b[0m: name 'cs' is not defined"
     ]
    }
   ],
   "source": [
    "model = cs.Model_PL(c=1, sigma=5, path=\"./model\", model_name=\"iris-model#7\")\n",
    "\n",
    "train_values, train_labels, test_values, test_labels, train_indices, test_indices = Splitter.split_train_test_dataset(iris_values_std, iris_labels)"
   ]
  },
  {
   "cell_type": "code",
   "execution_count": null,
   "metadata": {},
   "outputs": [],
   "source": [
    "model.fit(train_values, train_labels=list(zip(train_indices, train_labels)), mu=cs.Get_mu(iris_labels))"
   ]
  },
  {
   "cell_type": "code",
   "execution_count": null,
   "metadata": {},
   "outputs": [],
   "source": [
    "model.score(test_values, test_labels, labels_indexed=False)"
   ]
  },
  {
   "cell_type": "code",
   "execution_count": null,
   "metadata": {},
   "outputs": [],
   "source": [
    "from sklearn.model_selection import GridSearchCV\n",
    "from sklearn.model_selection import KFold\n",
    "\n",
    "kf = KFold(n_splits=3, shuffle=True)\n",
    "\n",
    "clf = GridSearchCV(model, {'c':[1, 10000], 'sigma': [.1, .25, .225, .5,]}, cv=kf, n_jobs=-1, verbose=10)\n",
    "clf.fit(train_values, list(zip(train_indices, train_labels)), mu=cs.Get_mu(iris_labels))"
   ]
  },
  {
   "cell_type": "code",
   "execution_count": null,
   "metadata": {},
   "outputs": [],
   "source": [
    "clf.cv_results_"
   ]
  },
  {
   "cell_type": "code",
   "execution_count": null,
   "metadata": {},
   "outputs": [],
   "source": [
    "clf.best_index_"
   ]
  },
  {
   "cell_type": "code",
   "execution_count": null,
   "metadata": {},
   "outputs": [],
   "source": []
  },
  {
   "cell_type": "code",
   "execution_count": null,
   "metadata": {},
   "outputs": [],
   "source": [
    "from tesimodules.ModelSelection import GridSearchCV as gs\n",
    "\n",
    "clf = gs(model, )"
   ]
  }
 ]
}