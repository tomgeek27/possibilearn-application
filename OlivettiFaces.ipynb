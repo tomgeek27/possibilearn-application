{
 "nbformat": 4,
 "nbformat_minor": 2,
 "metadata": {
  "language_info": {
   "name": "python",
   "codemirror_mode": {
    "name": "ipython",
    "version": 3
   },
   "version": "3.7.4"
  },
  "orig_nbformat": 2,
  "file_extension": ".py",
  "mimetype": "text/x-python",
  "name": "python",
  "npconvert_exporter": "python",
  "pygments_lexer": "ipython3",
  "version": 3
 },
 "cells": [
  {
   "source": [
    "from sklearn.datasets import fetch_olivetti_faces\n",
    "from sklearn.preprocessing import StandardScaler\n",
    "from sklearn.decomposition import PCA\n",
    "from sklearn.manifold import TSNE\n",
    "import matplotlib.pyplot as plt\n",
    "import numpy as np\n",
    "from tesimodules import Classificator as cs, Splitter\n",
    "\n",
    "olivetti = fetch_olivetti_faces()\n",
    "\n",
    "olivetti_data = olivetti.data\n",
    "olivetti_labels = olivetti.target\n",
    "olivetti_trasformed_data = StandardScaler().fit_transform(olivetti_data)\n",
    "\n",
    "olivetti_data_6d = PCA(n_components=100).fit_transform(olivetti_trasformed_data)\n",
    "\n",
    "olivetti_data_tsne = TSNE().fit_transform(olivetti_data)"
   ],
   "cell_type": "code",
   "outputs": [],
   "metadata": {},
   "execution_count": 1
  },
  {
   "source": [
    "train_v, train_l, test_v, test_l, train_i, test_i = Splitter.split_train_test_dataset(olivetti_data_tsne, olivetti_labels, size_train=0.8)\n",
    "\n",
    "general_mu = cs.Get_mu(olivetti_labels)\n",
    "\n",
    "print(train_i)"
   ],
   "cell_type": "code",
   "outputs": [
    {
     "output_type": "stream",
     "name": "stdout",
     "text": "[330  40 146  72 114 133 212 380 398 282 103  87 177 238  21 248 162 370\n   8 251 333 363 209   0 348 312 342 228 172 221  30 214 297 183  55 210\n 253  49 273 107 281  64 155 164 311  52 181 137 354  83 116 119 193 199\n 292  69 341 384  73 328 394  63 274 379 280  51 256 136  89 350 222 377\n 322  45 156 140 174 219  14 237  39 383  91 170 161 175 216 388 324  80\n 234 185 192 264 135 265 142 372 106 148   5 306 284 346  98  28 166 298\n  33 299  59 178  92   6 278 145 198  65 179 310 247 211 242 208  70 275\n 252  86 150 124 396  12 254   4 233 374 291 120 261 117  99 332 358 101\n 338 258 203 300 195 213 158 108 201  96  10 205  67 171 262 369  41 159\n  88  48  54 315  50 160  68  93  85  32  31 327 397 138 362  56  43 277\n 243 321 226 366  76 152  60 389 317 194 308  27 250   1 356 357 320 132\n 244 390  35 141 337 111  38 128  13 249  24 313  77 345 285 180  97 206\n 359 349 235 336 190  78 360 121 134  46 100 154   2 204 236 307  62 215\n 267  20 318 373 217 165 343 131 276 257 123 294  23 169 296   3 122 393\n 361 381 304 283  90 395 288 270 289 241 301  16 105   7  44 176 344 269\n 230 224 189 268 302 303 259 186  42 102 200 375 279 227 255 182   9 365\n 305 331  75  79  71 127 144 347 399 319 387 266 167 115 386 163  29 125\n 188 286 334 378 287  58 371 110 364 139 218 382 272 385]\n[ 11 184 191 147 196  61 126 368 113  34  26 339 271 225  57 316 293 153\n 351 246 295 187 202 143  94 309 151 323 239 104  36 157 130  66 260  18\n 340 207 173  22 168 118 391 367 129 325 335 245  74 240  95 290  19 376\n 220  82  47  25  84 352 149 314 329 231 263 392 355  17 197  37  53 223\n 232 229 326 353 112 109  15  81]\n[330  40 146  72 114 133 212 380 398 282 103  87 177 238  21 248 162 370\n   8 251 333 363 209   0 348 312 342 228 172 221  30 214 297 183  55 210\n 253  49 273 107 281  64 155 164 311  52 181 137 354  83 116 119 193 199\n 292  69 341 384  73 328 394  63 274 379 280  51 256 136  89 350 222 377\n 322  45 156 140 174 219  14 237  39 383  91 170 161 175 216 388 324  80\n 234 185 192 264 135 265 142 372 106 148   5 306 284 346  98  28 166 298\n  33 299  59 178  92   6 278 145 198  65 179 310 247 211 242 208  70 275\n 252  86 150 124 396  12 254   4 233 374 291 120 261 117  99 332 358 101\n 338 258 203 300 195 213 158 108 201  96  10 205  67 171 262 369  41 159\n  88  48  54 315  50 160  68  93  85  32  31 327 397 138 362  56  43 277\n 243 321 226 366  76 152  60 389 317 194 308  27 250   1 356 357 320 132\n 244 390  35 141 337 111  38 128  13 249  24 313  77 345 285 180  97 206\n 359 349 235 336 190  78 360 121 134  46 100 154   2 204 236 307  62 215\n 267  20 318 373 217 165 343 131 276 257 123 294  23 169 296   3 122 393\n 361 381 304 283  90 395 288 270 289 241 301  16 105   7  44 176 344 269\n 230 224 189 268 302 303 259 186  42 102 200 375 279 227 255 182   9 365\n 305 331  75  79  71 127 144 347 399 319 387 266 167 115 386 163  29 125\n 188 286 334 378 287  58 371 110 364 139 218 382 272 385]\n"
    }
   ],
   "metadata": {},
   "execution_count": 2
  },
  {
   "cell_type": "code",
   "execution_count": 3,
   "metadata": {},
   "outputs": [],
   "source": [
    "model = cs.Model_PL(c=1, sigma=.5)"
   ]
  },
  {
   "cell_type": "code",
   "execution_count": 4,
   "metadata": {},
   "outputs": [
    {
     "name": "stdout",
     "output_type": "stream",
     "text": "Academic license - for non-commercial use only\nFunzione 0:\n - Function: <function LinearFuzzifier.get_fuzzified_membership.<locals>.estimated_membership at 0x1a24fd1a70> \n - Secondi: 43.86\n - Minuti: 0.73\nFunzione 1:\n - Function: <function LinearFuzzifier.get_fuzzified_membership.<locals>.estimated_membership at 0x1a24fd1ef0> \n - Secondi: 39.19\n - Minuti: 0.65\nFunzione 2:\n - Function: <function LinearFuzzifier.get_fuzzified_membership.<locals>.estimated_membership at 0x1a24fec560> \n - Secondi: 36.26\n - Minuti: 0.60\nFunzione 3:\n - Function: <function LinearFuzzifier.get_fuzzified_membership.<locals>.estimated_membership at 0x1a24fec680> \n - Secondi: 40.70\n - Minuti: 0.68\nFunzione 4:\n - Function: <function LinearFuzzifier.get_fuzzified_membership.<locals>.estimated_membership at 0x1a24fec7a0> \n - Secondi: 39.41\n - Minuti: 0.66\nFunzione 5:\n - Function: <function LinearFuzzifier.get_fuzzified_membership.<locals>.estimated_membership at 0x1a24fec8c0> \n - Secondi: 38.94\n - Minuti: 0.65\nFunzione 6:\n - Function: <function LinearFuzzifier.get_fuzzified_membership.<locals>.estimated_membership at 0x1a24fec9e0> \n - Secondi: 36.48\n - Minuti: 0.61\nFunzione 7:\n - Function: <function LinearFuzzifier.get_fuzzified_membership.<locals>.estimated_membership at 0x1a24fecb00> \n - Secondi: 37.43\n - Minuti: 0.62\nFunzione 8:\n - Function: <function LinearFuzzifier.get_fuzzified_membership.<locals>.estimated_membership at 0x1a24fecb90> \n - Secondi: 35.38\n - Minuti: 0.59\nFunzione 9:\n - Function: <function LinearFuzzifier.get_fuzzified_membership.<locals>.estimated_membership at 0x1a24fecd40> \n - Secondi: 35.16\n - Minuti: 0.59\nFunzione 10:\n - Function: <function LinearFuzzifier.get_fuzzified_membership.<locals>.estimated_membership at 0x1a24fece60> \n - Secondi: 32.94\n - Minuti: 0.55\nFunzione 11:\n - Function: <function LinearFuzzifier.get_fuzzified_membership.<locals>.estimated_membership at 0x1a24fecf80> \n - Secondi: 32.90\n - Minuti: 0.55\nFunzione 12:\n - Function: <function LinearFuzzifier.get_fuzzified_membership.<locals>.estimated_membership at 0x1a24ffb0e0> \n - Secondi: 38.67\n - Minuti: 0.64\nFunzione 13:\n - Function: <function LinearFuzzifier.get_fuzzified_membership.<locals>.estimated_membership at 0x1a24ffb200> \n - Secondi: 37.82\n - Minuti: 0.63\nFunzione 14:\n - Function: <function LinearFuzzifier.get_fuzzified_membership.<locals>.estimated_membership at 0x1a24ffb320> \n - Secondi: 39.07\n - Minuti: 0.65\nFunzione 15:\n - Function: <function LinearFuzzifier.get_fuzzified_membership.<locals>.estimated_membership at 0x1a24ffb440> \n - Secondi: 38.11\n - Minuti: 0.64\nFunzione 16:\n - Function: <function LinearFuzzifier.get_fuzzified_membership.<locals>.estimated_membership at 0x1a24ffb560> \n - Secondi: 37.80\n - Minuti: 0.63\nFunzione 17:\n - Function: <function LinearFuzzifier.get_fuzzified_membership.<locals>.estimated_membership at 0x1a24ffb680> \n - Secondi: 36.68\n - Minuti: 0.61\nFunzione 18:\n - Function: <function LinearFuzzifier.get_fuzzified_membership.<locals>.estimated_membership at 0x1a24ffb710> \n - Secondi: 35.70\n - Minuti: 0.60\nFunzione 19:\n - Function: <function LinearFuzzifier.get_fuzzified_membership.<locals>.estimated_membership at 0x1a24ffb8c0> \n - Secondi: 36.57\n - Minuti: 0.61\nFunzione 20:\n - Function: <function LinearFuzzifier.get_fuzzified_membership.<locals>.estimated_membership at 0x1a24ffb9e0> \n - Secondi: 43.32\n - Minuti: 0.72\nFunzione 21:\n - Function: <function LinearFuzzifier.get_fuzzified_membership.<locals>.estimated_membership at 0x1a24ffbb00> \n - Secondi: 38.25\n - Minuti: 0.64\nFunzione 22:\n - Function: <function LinearFuzzifier.get_fuzzified_membership.<locals>.estimated_membership at 0x1a24ffbb90> \n - Secondi: 40.41\n - Minuti: 0.67\nFunzione 23:\n - Function: <function LinearFuzzifier.get_fuzzified_membership.<locals>.estimated_membership at 0x1a24ffbd40> \n - Secondi: 40.11\n - Minuti: 0.67\nFunzione 24:\n - Function: <function LinearFuzzifier.get_fuzzified_membership.<locals>.estimated_membership at 0x1a24ffbdd0> \n - Secondi: 41.09\n - Minuti: 0.68\nFunzione 25:\n - Function: <function LinearFuzzifier.get_fuzzified_membership.<locals>.estimated_membership at 0x1a24ffbf80> \n - Secondi: 40.01\n - Minuti: 0.67\nFunzione 26:\n - Function: <function LinearFuzzifier.get_fuzzified_membership.<locals>.estimated_membership at 0x1a250020e0> \n - Secondi: 39.15\n - Minuti: 0.65\nFunzione 27:\n - Function: <function LinearFuzzifier.get_fuzzified_membership.<locals>.estimated_membership at 0x1a25002200> \n - Secondi: 38.89\n - Minuti: 0.65\nFunzione 28:\n - Function: <function LinearFuzzifier.get_fuzzified_membership.<locals>.estimated_membership at 0x1a25002290> \n - Secondi: 39.53\n - Minuti: 0.66\nFunzione 29:\n - Function: <function LinearFuzzifier.get_fuzzified_membership.<locals>.estimated_membership at 0x1a25002440> \n - Secondi: 36.36\n - Minuti: 0.61\nFunzione 30:\n - Function: <function LinearFuzzifier.get_fuzzified_membership.<locals>.estimated_membership at 0x1a25002560> \n - Secondi: 39.62\n - Minuti: 0.66\nFunzione 31:\n - Function: <function LinearFuzzifier.get_fuzzified_membership.<locals>.estimated_membership at 0x1a25002680> \n - Secondi: 39.62\n - Minuti: 0.66\nFunzione 32:\n - Function: <function LinearFuzzifier.get_fuzzified_membership.<locals>.estimated_membership at 0x1a250027a0> \n - Secondi: 37.80\n - Minuti: 0.63\nFunzione 33:\n - Function: <function LinearFuzzifier.get_fuzzified_membership.<locals>.estimated_membership at 0x1a250028c0> \n - Secondi: 36.59\n - Minuti: 0.61\nFunzione 34:\n - Function: <function LinearFuzzifier.get_fuzzified_membership.<locals>.estimated_membership at 0x1a25002950> \n - Secondi: 37.77\n - Minuti: 0.63\nFunzione 35:\n - Function: <function LinearFuzzifier.get_fuzzified_membership.<locals>.estimated_membership at 0x1a250029e0> \n - Secondi: 37.83\n - Minuti: 0.63\nFunzione 36:\n - Function: <function LinearFuzzifier.get_fuzzified_membership.<locals>.estimated_membership at 0x1a25002c20> \n - Secondi: 39.05\n - Minuti: 0.65\nFunzione 37:\n - Function: <function LinearFuzzifier.get_fuzzified_membership.<locals>.estimated_membership at 0x1a25002d40> \n - Secondi: 42.67\n - Minuti: 0.71\nFunzione 38:\n - Function: <function LinearFuzzifier.get_fuzzified_membership.<locals>.estimated_membership at 0x1a25002e60> \n - Secondi: 44.03\n - Minuti: 0.73\nFunzione 39:\n - Function: <function LinearFuzzifier.get_fuzzified_membership.<locals>.estimated_membership at 0x1a25002ef0> \n - Secondi: 44.50\n - Minuti: 0.74\n"
    },
    {
     "data": {
      "text/plain": "Model_PL(c=1, sigma=0.5)"
     },
     "execution_count": 4,
     "metadata": {},
     "output_type": "execute_result"
    }
   ],
   "source": [
    "model.fit(train_v, list(zip(train_i, train_l)), mu=general_mu, adjustment=1.8e+03)"
   ]
  },
  {
   "cell_type": "code",
   "execution_count": 13,
   "metadata": {},
   "outputs": [
    {
     "ename": "KeyboardInterrupt",
     "evalue": "",
     "output_type": "error",
     "traceback": [
      "\u001b[0;31m---------------------------------------------------------------------------\u001b[0m",
      "\u001b[0;31mKeyboardInterrupt\u001b[0m                         Traceback (most recent call last)",
      "\u001b[0;32m<ipython-input-13-a0c6d796d975>\u001b[0m in \u001b[0;36m<module>\u001b[0;34m\u001b[0m\n\u001b[0;32m----> 1\u001b[0;31m \u001b[0mmodel\u001b[0m\u001b[0;34m.\u001b[0m\u001b[0mscore\u001b[0m\u001b[0;34m(\u001b[0m\u001b[0mtrain_v\u001b[0m\u001b[0;34m,\u001b[0m \u001b[0mlist\u001b[0m\u001b[0;34m(\u001b[0m\u001b[0mzip\u001b[0m\u001b[0;34m(\u001b[0m\u001b[0mtrain_i\u001b[0m\u001b[0;34m,\u001b[0m \u001b[0mtrain_l\u001b[0m\u001b[0;34m)\u001b[0m\u001b[0;34m)\u001b[0m\u001b[0;34m)\u001b[0m\u001b[0;34m\u001b[0m\u001b[0;34m\u001b[0m\u001b[0m\n\u001b[0m",
      "\u001b[0;32m//anaconda3/envs/tesi/lib/python3.7/tesimodules/Classificator.py\u001b[0m in \u001b[0;36mscore\u001b[0;34m(self, values, labels, labels_indexed)\u001b[0m\n\u001b[1;32m    132\u001b[0m                 \u001b[0m_labels\u001b[0m\u001b[0;34m.\u001b[0m\u001b[0mappend\u001b[0m\u001b[0;34m(\u001b[0m\u001b[0mlabel\u001b[0m\u001b[0;34m)\u001b[0m\u001b[0;34m\u001b[0m\u001b[0;34m\u001b[0m\u001b[0m\n\u001b[1;32m    133\u001b[0m \u001b[0;34m\u001b[0m\u001b[0m\n\u001b[0;32m--> 134\u001b[0;31m             \u001b[0;32mreturn\u001b[0m \u001b[0mself\u001b[0m\u001b[0;34m.\u001b[0m\u001b[0m__score\u001b[0m\u001b[0;34m(\u001b[0m\u001b[0mvalues\u001b[0m\u001b[0;34m,\u001b[0m \u001b[0m_labels\u001b[0m\u001b[0;34m)\u001b[0m\u001b[0;34m\u001b[0m\u001b[0;34m\u001b[0m\u001b[0m\n\u001b[0m\u001b[1;32m    135\u001b[0m         \u001b[0;32melse\u001b[0m\u001b[0;34m:\u001b[0m\u001b[0;34m\u001b[0m\u001b[0;34m\u001b[0m\u001b[0m\n\u001b[1;32m    136\u001b[0m             \u001b[0;32mreturn\u001b[0m \u001b[0mself\u001b[0m\u001b[0;34m.\u001b[0m\u001b[0m__score\u001b[0m\u001b[0;34m(\u001b[0m\u001b[0mvalues\u001b[0m\u001b[0;34m,\u001b[0m \u001b[0mlabels\u001b[0m\u001b[0;34m)\u001b[0m\u001b[0;34m\u001b[0m\u001b[0;34m\u001b[0m\u001b[0m\n",
      "\u001b[0;32m//anaconda3/envs/tesi/lib/python3.7/tesimodules/Classificator.py\u001b[0m in \u001b[0;36m__score\u001b[0;34m(self, values, labels)\u001b[0m\n\u001b[1;32m    137\u001b[0m \u001b[0;34m\u001b[0m\u001b[0m\n\u001b[1;32m    138\u001b[0m     \u001b[0;32mdef\u001b[0m \u001b[0m__score\u001b[0m\u001b[0;34m(\u001b[0m\u001b[0mself\u001b[0m\u001b[0;34m,\u001b[0m \u001b[0mvalues\u001b[0m\u001b[0;34m,\u001b[0m \u001b[0mlabels\u001b[0m\u001b[0;34m)\u001b[0m\u001b[0;34m:\u001b[0m\u001b[0;34m\u001b[0m\u001b[0;34m\u001b[0m\u001b[0m\n\u001b[0;32m--> 139\u001b[0;31m         \u001b[0mresults\u001b[0m \u001b[0;34m=\u001b[0m \u001b[0mlist\u001b[0m\u001b[0;34m(\u001b[0m\u001b[0mzip\u001b[0m\u001b[0;34m(\u001b[0m\u001b[0mmap\u001b[0m\u001b[0;34m(\u001b[0m\u001b[0;32mlambda\u001b[0m \u001b[0mitem\u001b[0m\u001b[0;34m:\u001b[0m \u001b[0mself\u001b[0m\u001b[0;34m.\u001b[0m\u001b[0m__classify\u001b[0m\u001b[0;34m(\u001b[0m\u001b[0mitem\u001b[0m\u001b[0;34m)\u001b[0m\u001b[0;34m,\u001b[0m \u001b[0mvalues\u001b[0m\u001b[0;34m)\u001b[0m\u001b[0;34m,\u001b[0m \u001b[0mlabels\u001b[0m\u001b[0;34m)\u001b[0m\u001b[0;34m)\u001b[0m\u001b[0;34m\u001b[0m\u001b[0;34m\u001b[0m\u001b[0m\n\u001b[0m\u001b[1;32m    140\u001b[0m         \u001b[0mvalidation_result\u001b[0m \u001b[0;34m=\u001b[0m \u001b[0mlen\u001b[0m\u001b[0;34m(\u001b[0m\u001b[0;34m[\u001b[0m\u001b[0mr\u001b[0m \u001b[0;32mfor\u001b[0m \u001b[0mr\u001b[0m \u001b[0;32min\u001b[0m \u001b[0mresults\u001b[0m \u001b[0;32mif\u001b[0m \u001b[0mr\u001b[0m\u001b[0;34m[\u001b[0m\u001b[0;36m0\u001b[0m\u001b[0;34m]\u001b[0m \u001b[0;34m==\u001b[0m \u001b[0mr\u001b[0m\u001b[0;34m[\u001b[0m\u001b[0;36m1\u001b[0m\u001b[0;34m]\u001b[0m\u001b[0;34m]\u001b[0m\u001b[0;34m)\u001b[0m\u001b[0;34m/\u001b[0m\u001b[0mlen\u001b[0m\u001b[0;34m(\u001b[0m\u001b[0mvalues\u001b[0m\u001b[0;34m)\u001b[0m\u001b[0;34m\u001b[0m\u001b[0;34m\u001b[0m\u001b[0m\n\u001b[1;32m    141\u001b[0m \u001b[0;34m\u001b[0m\u001b[0m\n",
      "\u001b[0;32m//anaconda3/envs/tesi/lib/python3.7/tesimodules/Classificator.py\u001b[0m in \u001b[0;36m<lambda>\u001b[0;34m(item)\u001b[0m\n\u001b[1;32m    137\u001b[0m \u001b[0;34m\u001b[0m\u001b[0m\n\u001b[1;32m    138\u001b[0m     \u001b[0;32mdef\u001b[0m \u001b[0m__score\u001b[0m\u001b[0;34m(\u001b[0m\u001b[0mself\u001b[0m\u001b[0;34m,\u001b[0m \u001b[0mvalues\u001b[0m\u001b[0;34m,\u001b[0m \u001b[0mlabels\u001b[0m\u001b[0;34m)\u001b[0m\u001b[0;34m:\u001b[0m\u001b[0;34m\u001b[0m\u001b[0;34m\u001b[0m\u001b[0m\n\u001b[0;32m--> 139\u001b[0;31m         \u001b[0mresults\u001b[0m \u001b[0;34m=\u001b[0m \u001b[0mlist\u001b[0m\u001b[0;34m(\u001b[0m\u001b[0mzip\u001b[0m\u001b[0;34m(\u001b[0m\u001b[0mmap\u001b[0m\u001b[0;34m(\u001b[0m\u001b[0;32mlambda\u001b[0m \u001b[0mitem\u001b[0m\u001b[0;34m:\u001b[0m \u001b[0mself\u001b[0m\u001b[0;34m.\u001b[0m\u001b[0m__classify\u001b[0m\u001b[0;34m(\u001b[0m\u001b[0mitem\u001b[0m\u001b[0;34m)\u001b[0m\u001b[0;34m,\u001b[0m \u001b[0mvalues\u001b[0m\u001b[0;34m)\u001b[0m\u001b[0;34m,\u001b[0m \u001b[0mlabels\u001b[0m\u001b[0;34m)\u001b[0m\u001b[0;34m)\u001b[0m\u001b[0;34m\u001b[0m\u001b[0;34m\u001b[0m\u001b[0m\n\u001b[0m\u001b[1;32m    140\u001b[0m         \u001b[0mvalidation_result\u001b[0m \u001b[0;34m=\u001b[0m \u001b[0mlen\u001b[0m\u001b[0;34m(\u001b[0m\u001b[0;34m[\u001b[0m\u001b[0mr\u001b[0m \u001b[0;32mfor\u001b[0m \u001b[0mr\u001b[0m \u001b[0;32min\u001b[0m \u001b[0mresults\u001b[0m \u001b[0;32mif\u001b[0m \u001b[0mr\u001b[0m\u001b[0;34m[\u001b[0m\u001b[0;36m0\u001b[0m\u001b[0;34m]\u001b[0m \u001b[0;34m==\u001b[0m \u001b[0mr\u001b[0m\u001b[0;34m[\u001b[0m\u001b[0;36m1\u001b[0m\u001b[0;34m]\u001b[0m\u001b[0;34m]\u001b[0m\u001b[0;34m)\u001b[0m\u001b[0;34m/\u001b[0m\u001b[0mlen\u001b[0m\u001b[0;34m(\u001b[0m\u001b[0mvalues\u001b[0m\u001b[0;34m)\u001b[0m\u001b[0;34m\u001b[0m\u001b[0;34m\u001b[0m\u001b[0m\n\u001b[1;32m    141\u001b[0m \u001b[0;34m\u001b[0m\u001b[0m\n",
      "\u001b[0;32m//anaconda3/envs/tesi/lib/python3.7/tesimodules/Classificator.py\u001b[0m in \u001b[0;36m__classify\u001b[0;34m(self, item)\u001b[0m\n\u001b[1;32m    114\u001b[0m \u001b[0;34m\u001b[0m\u001b[0m\n\u001b[1;32m    115\u001b[0m         \u001b[0mclasses\u001b[0m \u001b[0;34m=\u001b[0m \u001b[0mself\u001b[0m\u001b[0;34m.\u001b[0m\u001b[0mmembership_functions\u001b[0m\u001b[0;34m.\u001b[0m\u001b[0mkeys\u001b[0m\u001b[0;34m(\u001b[0m\u001b[0;34m)\u001b[0m\u001b[0;34m\u001b[0m\u001b[0;34m\u001b[0m\u001b[0m\n\u001b[0;32m--> 116\u001b[0;31m         \u001b[0;32mreturn\u001b[0m \u001b[0msorted\u001b[0m\u001b[0;34m(\u001b[0m\u001b[0;34m[\u001b[0m\u001b[0;34m(\u001b[0m\u001b[0ml\u001b[0m\u001b[0;34m,\u001b[0m \u001b[0mself\u001b[0m\u001b[0;34m.\u001b[0m\u001b[0mget_membership_function\u001b[0m\u001b[0;34m(\u001b[0m\u001b[0ml\u001b[0m\u001b[0;34m)\u001b[0m\u001b[0;34m(\u001b[0m\u001b[0mitem\u001b[0m\u001b[0;34m)\u001b[0m\u001b[0;34m)\u001b[0m \u001b[0;32mfor\u001b[0m \u001b[0ml\u001b[0m \u001b[0;32min\u001b[0m \u001b[0mclasses\u001b[0m\u001b[0;34m]\u001b[0m\u001b[0;34m,\u001b[0m \u001b[0mkey\u001b[0m\u001b[0;34m=\u001b[0m\u001b[0;32mlambda\u001b[0m \u001b[0mi\u001b[0m\u001b[0;34m:\u001b[0m\u001b[0mi\u001b[0m\u001b[0;34m[\u001b[0m\u001b[0;36m1\u001b[0m\u001b[0;34m]\u001b[0m\u001b[0;34m,\u001b[0m \u001b[0mreverse\u001b[0m\u001b[0;34m=\u001b[0m\u001b[0;32mTrue\u001b[0m\u001b[0;34m)\u001b[0m\u001b[0;34m[\u001b[0m\u001b[0;36m0\u001b[0m\u001b[0;34m]\u001b[0m\u001b[0;34m[\u001b[0m\u001b[0;36m0\u001b[0m\u001b[0;34m]\u001b[0m\u001b[0;34m\u001b[0m\u001b[0;34m\u001b[0m\u001b[0m\n\u001b[0m\u001b[1;32m    117\u001b[0m \u001b[0;34m\u001b[0m\u001b[0m\n\u001b[1;32m    118\u001b[0m     \u001b[0;32mdef\u001b[0m \u001b[0mscore\u001b[0m\u001b[0;34m(\u001b[0m\u001b[0mself\u001b[0m\u001b[0;34m,\u001b[0m \u001b[0mvalues\u001b[0m\u001b[0;34m,\u001b[0m \u001b[0mlabels\u001b[0m\u001b[0;34m,\u001b[0m \u001b[0mlabels_indexed\u001b[0m\u001b[0;34m=\u001b[0m\u001b[0;32mTrue\u001b[0m\u001b[0;34m)\u001b[0m\u001b[0;34m:\u001b[0m\u001b[0;34m\u001b[0m\u001b[0;34m\u001b[0m\u001b[0m\n",
      "\u001b[0;32m//anaconda3/envs/tesi/lib/python3.7/tesimodules/Classificator.py\u001b[0m in \u001b[0;36m<listcomp>\u001b[0;34m(.0)\u001b[0m\n\u001b[1;32m    114\u001b[0m \u001b[0;34m\u001b[0m\u001b[0m\n\u001b[1;32m    115\u001b[0m         \u001b[0mclasses\u001b[0m \u001b[0;34m=\u001b[0m \u001b[0mself\u001b[0m\u001b[0;34m.\u001b[0m\u001b[0mmembership_functions\u001b[0m\u001b[0;34m.\u001b[0m\u001b[0mkeys\u001b[0m\u001b[0;34m(\u001b[0m\u001b[0;34m)\u001b[0m\u001b[0;34m\u001b[0m\u001b[0;34m\u001b[0m\u001b[0m\n\u001b[0;32m--> 116\u001b[0;31m         \u001b[0;32mreturn\u001b[0m \u001b[0msorted\u001b[0m\u001b[0;34m(\u001b[0m\u001b[0;34m[\u001b[0m\u001b[0;34m(\u001b[0m\u001b[0ml\u001b[0m\u001b[0;34m,\u001b[0m \u001b[0mself\u001b[0m\u001b[0;34m.\u001b[0m\u001b[0mget_membership_function\u001b[0m\u001b[0;34m(\u001b[0m\u001b[0ml\u001b[0m\u001b[0;34m)\u001b[0m\u001b[0;34m(\u001b[0m\u001b[0mitem\u001b[0m\u001b[0;34m)\u001b[0m\u001b[0;34m)\u001b[0m \u001b[0;32mfor\u001b[0m \u001b[0ml\u001b[0m \u001b[0;32min\u001b[0m \u001b[0mclasses\u001b[0m\u001b[0;34m]\u001b[0m\u001b[0;34m,\u001b[0m \u001b[0mkey\u001b[0m\u001b[0;34m=\u001b[0m\u001b[0;32mlambda\u001b[0m \u001b[0mi\u001b[0m\u001b[0;34m:\u001b[0m\u001b[0mi\u001b[0m\u001b[0;34m[\u001b[0m\u001b[0;36m1\u001b[0m\u001b[0;34m]\u001b[0m\u001b[0;34m,\u001b[0m \u001b[0mreverse\u001b[0m\u001b[0;34m=\u001b[0m\u001b[0;32mTrue\u001b[0m\u001b[0;34m)\u001b[0m\u001b[0;34m[\u001b[0m\u001b[0;36m0\u001b[0m\u001b[0;34m]\u001b[0m\u001b[0;34m[\u001b[0m\u001b[0;36m0\u001b[0m\u001b[0;34m]\u001b[0m\u001b[0;34m\u001b[0m\u001b[0;34m\u001b[0m\u001b[0m\n\u001b[0m\u001b[1;32m    117\u001b[0m \u001b[0;34m\u001b[0m\u001b[0m\n\u001b[1;32m    118\u001b[0m     \u001b[0;32mdef\u001b[0m \u001b[0mscore\u001b[0m\u001b[0;34m(\u001b[0m\u001b[0mself\u001b[0m\u001b[0;34m,\u001b[0m \u001b[0mvalues\u001b[0m\u001b[0;34m,\u001b[0m \u001b[0mlabels\u001b[0m\u001b[0;34m,\u001b[0m \u001b[0mlabels_indexed\u001b[0m\u001b[0;34m=\u001b[0m\u001b[0;32mTrue\u001b[0m\u001b[0;34m)\u001b[0m\u001b[0;34m:\u001b[0m\u001b[0;34m\u001b[0m\u001b[0;34m\u001b[0m\u001b[0m\n",
      "\u001b[0;32m//anaconda3/envs/tesi/lib/python3.7/possibilearn/fuzzifiers.py\u001b[0m in \u001b[0;36mestimated_membership\u001b[0;34m(x)\u001b[0m\n\u001b[1;32m     52\u001b[0m \u001b[0;34m\u001b[0m\u001b[0m\n\u001b[1;32m     53\u001b[0m         \u001b[0;32mdef\u001b[0m \u001b[0mestimated_membership\u001b[0m\u001b[0;34m(\u001b[0m\u001b[0mx\u001b[0m\u001b[0;34m)\u001b[0m\u001b[0;34m:\u001b[0m\u001b[0;34m\u001b[0m\u001b[0;34m\u001b[0m\u001b[0m\n\u001b[0;32m---> 54\u001b[0;31m             \u001b[0mr\u001b[0m \u001b[0;34m=\u001b[0m \u001b[0mestimated_square_distance_from_center\u001b[0m\u001b[0;34m(\u001b[0m\u001b[0mnp\u001b[0m\u001b[0;34m.\u001b[0m\u001b[0marray\u001b[0m\u001b[0;34m(\u001b[0m\u001b[0mx\u001b[0m\u001b[0;34m)\u001b[0m\u001b[0;34m)\u001b[0m\u001b[0;34m\u001b[0m\u001b[0;34m\u001b[0m\u001b[0m\n\u001b[0m\u001b[1;32m     55\u001b[0m             \u001b[0mresult\u001b[0m \u001b[0;34m=\u001b[0m \u001b[0;34m(\u001b[0m\u001b[0mmax_radius\u001b[0m \u001b[0;34m-\u001b[0m \u001b[0mr\u001b[0m\u001b[0;34m)\u001b[0m\u001b[0;34m/\u001b[0m\u001b[0;34m(\u001b[0m\u001b[0mmax_radius\u001b[0m \u001b[0;34m-\u001b[0m \u001b[0mSV_square_distance\u001b[0m\u001b[0;34m)\u001b[0m\u001b[0;34m\u001b[0m\u001b[0;34m\u001b[0m\u001b[0m\n\u001b[1;32m     56\u001b[0m             \u001b[0;32mreturn\u001b[0m \u001b[0;36m1\u001b[0m \u001b[0;32mif\u001b[0m \u001b[0mr\u001b[0m \u001b[0;34m<=\u001b[0m \u001b[0mSV_square_distance\u001b[0m\u001b[0;31m \u001b[0m\u001b[0;31m\\\u001b[0m\u001b[0;34m\u001b[0m\u001b[0;34m\u001b[0m\u001b[0m\n",
      "\u001b[0;32m//anaconda3/envs/tesi/lib/python3.7/possibilearn/__init__.py\u001b[0m in \u001b[0;36mestimated_square_distance_from_center\u001b[0;34m(x_new)\u001b[0m\n\u001b[1;32m    153\u001b[0m     \u001b[0;32mdef\u001b[0m \u001b[0mestimated_square_distance_from_center\u001b[0m\u001b[0;34m(\u001b[0m\u001b[0mx_new\u001b[0m\u001b[0;34m)\u001b[0m\u001b[0;34m:\u001b[0m\u001b[0;34m\u001b[0m\u001b[0;34m\u001b[0m\u001b[0m\n\u001b[1;32m    154\u001b[0m         \u001b[0;32mreturn\u001b[0m \u001b[0mk\u001b[0m\u001b[0;34m.\u001b[0m\u001b[0mcompute\u001b[0m\u001b[0;34m(\u001b[0m\u001b[0mx_new\u001b[0m\u001b[0;34m,\u001b[0m \u001b[0mx_new\u001b[0m\u001b[0;34m)\u001b[0m\u001b[0;31m \u001b[0m\u001b[0;31m\\\u001b[0m\u001b[0;34m\u001b[0m\u001b[0;34m\u001b[0m\u001b[0m\n\u001b[0;32m--> 155\u001b[0;31m                \u001b[0;34m-\u001b[0m \u001b[0;36m2\u001b[0m \u001b[0;34m*\u001b[0m \u001b[0mnp\u001b[0m\u001b[0;34m.\u001b[0m\u001b[0marray\u001b[0m\u001b[0;34m(\u001b[0m\u001b[0;34m[\u001b[0m\u001b[0mk\u001b[0m\u001b[0;34m.\u001b[0m\u001b[0mcompute\u001b[0m\u001b[0;34m(\u001b[0m\u001b[0mx_i\u001b[0m\u001b[0;34m,\u001b[0m \u001b[0mx_new\u001b[0m\u001b[0;34m)\u001b[0m \u001b[0;32mfor\u001b[0m \u001b[0mx_i\u001b[0m \u001b[0;32min\u001b[0m \u001b[0mx\u001b[0m\u001b[0;34m]\u001b[0m\u001b[0;34m)\u001b[0m\u001b[0;34m.\u001b[0m\u001b[0mdot\u001b[0m\u001b[0;34m(\u001b[0m\u001b[0mchis\u001b[0m\u001b[0;34m)\u001b[0m \u001b[0;34m+\u001b[0m \u001b[0mfixed_term\u001b[0m\u001b[0;34m\u001b[0m\u001b[0;34m\u001b[0m\u001b[0m\n\u001b[0m\u001b[1;32m    156\u001b[0m \u001b[0;34m\u001b[0m\u001b[0m\n\u001b[1;32m    157\u001b[0m     \u001b[0mchi_SV_index\u001b[0m \u001b[0;34m=\u001b[0m \u001b[0;34m[\u001b[0m\u001b[0mi\u001b[0m \u001b[0;32mfor\u001b[0m \u001b[0mi\u001b[0m \u001b[0;32min\u001b[0m \u001b[0mrange\u001b[0m\u001b[0;34m(\u001b[0m\u001b[0mlen\u001b[0m\u001b[0;34m(\u001b[0m\u001b[0mchis\u001b[0m\u001b[0;34m)\u001b[0m\u001b[0;34m)\u001b[0m \u001b[0;32mif\u001b[0m \u001b[0;34m-\u001b[0m\u001b[0mc\u001b[0m\u001b[0;34m*\u001b[0m\u001b[0;34m(\u001b[0m\u001b[0;36m1\u001b[0m\u001b[0;34m-\u001b[0m\u001b[0mmu_train\u001b[0m\u001b[0;34m[\u001b[0m\u001b[0mi\u001b[0m\u001b[0;34m]\u001b[0m\u001b[0;34m)\u001b[0m \u001b[0;34m<\u001b[0m \u001b[0mchis\u001b[0m\u001b[0;34m[\u001b[0m\u001b[0mi\u001b[0m\u001b[0;34m]\u001b[0m \u001b[0;34m<\u001b[0m \u001b[0mc\u001b[0m\u001b[0;34m*\u001b[0m\u001b[0mmu_train\u001b[0m\u001b[0;34m[\u001b[0m\u001b[0mi\u001b[0m\u001b[0;34m]\u001b[0m\u001b[0;34m]\u001b[0m\u001b[0;34m\u001b[0m\u001b[0;34m\u001b[0m\u001b[0m\n",
      "\u001b[0;32m//anaconda3/envs/tesi/lib/python3.7/possibilearn/__init__.py\u001b[0m in \u001b[0;36m<listcomp>\u001b[0;34m(.0)\u001b[0m\n\u001b[1;32m    153\u001b[0m     \u001b[0;32mdef\u001b[0m \u001b[0mestimated_square_distance_from_center\u001b[0m\u001b[0;34m(\u001b[0m\u001b[0mx_new\u001b[0m\u001b[0;34m)\u001b[0m\u001b[0;34m:\u001b[0m\u001b[0;34m\u001b[0m\u001b[0;34m\u001b[0m\u001b[0m\n\u001b[1;32m    154\u001b[0m         \u001b[0;32mreturn\u001b[0m \u001b[0mk\u001b[0m\u001b[0;34m.\u001b[0m\u001b[0mcompute\u001b[0m\u001b[0;34m(\u001b[0m\u001b[0mx_new\u001b[0m\u001b[0;34m,\u001b[0m \u001b[0mx_new\u001b[0m\u001b[0;34m)\u001b[0m\u001b[0;31m \u001b[0m\u001b[0;31m\\\u001b[0m\u001b[0;34m\u001b[0m\u001b[0;34m\u001b[0m\u001b[0m\n\u001b[0;32m--> 155\u001b[0;31m                \u001b[0;34m-\u001b[0m \u001b[0;36m2\u001b[0m \u001b[0;34m*\u001b[0m \u001b[0mnp\u001b[0m\u001b[0;34m.\u001b[0m\u001b[0marray\u001b[0m\u001b[0;34m(\u001b[0m\u001b[0;34m[\u001b[0m\u001b[0mk\u001b[0m\u001b[0;34m.\u001b[0m\u001b[0mcompute\u001b[0m\u001b[0;34m(\u001b[0m\u001b[0mx_i\u001b[0m\u001b[0;34m,\u001b[0m \u001b[0mx_new\u001b[0m\u001b[0;34m)\u001b[0m \u001b[0;32mfor\u001b[0m \u001b[0mx_i\u001b[0m \u001b[0;32min\u001b[0m \u001b[0mx\u001b[0m\u001b[0;34m]\u001b[0m\u001b[0;34m)\u001b[0m\u001b[0;34m.\u001b[0m\u001b[0mdot\u001b[0m\u001b[0;34m(\u001b[0m\u001b[0mchis\u001b[0m\u001b[0;34m)\u001b[0m \u001b[0;34m+\u001b[0m \u001b[0mfixed_term\u001b[0m\u001b[0;34m\u001b[0m\u001b[0;34m\u001b[0m\u001b[0m\n\u001b[0m\u001b[1;32m    156\u001b[0m \u001b[0;34m\u001b[0m\u001b[0m\n\u001b[1;32m    157\u001b[0m     \u001b[0mchi_SV_index\u001b[0m \u001b[0;34m=\u001b[0m \u001b[0;34m[\u001b[0m\u001b[0mi\u001b[0m \u001b[0;32mfor\u001b[0m \u001b[0mi\u001b[0m \u001b[0;32min\u001b[0m \u001b[0mrange\u001b[0m\u001b[0;34m(\u001b[0m\u001b[0mlen\u001b[0m\u001b[0;34m(\u001b[0m\u001b[0mchis\u001b[0m\u001b[0;34m)\u001b[0m\u001b[0;34m)\u001b[0m \u001b[0;32mif\u001b[0m \u001b[0;34m-\u001b[0m\u001b[0mc\u001b[0m\u001b[0;34m*\u001b[0m\u001b[0;34m(\u001b[0m\u001b[0;36m1\u001b[0m\u001b[0;34m-\u001b[0m\u001b[0mmu_train\u001b[0m\u001b[0;34m[\u001b[0m\u001b[0mi\u001b[0m\u001b[0;34m]\u001b[0m\u001b[0;34m)\u001b[0m \u001b[0;34m<\u001b[0m \u001b[0mchis\u001b[0m\u001b[0;34m[\u001b[0m\u001b[0mi\u001b[0m\u001b[0;34m]\u001b[0m \u001b[0;34m<\u001b[0m \u001b[0mc\u001b[0m\u001b[0;34m*\u001b[0m\u001b[0mmu_train\u001b[0m\u001b[0;34m[\u001b[0m\u001b[0mi\u001b[0m\u001b[0;34m]\u001b[0m\u001b[0;34m]\u001b[0m\u001b[0;34m\u001b[0m\u001b[0;34m\u001b[0m\u001b[0m\n",
      "\u001b[0;32m//anaconda3/envs/tesi/lib/python3.7/possibilearn/kernel.py\u001b[0m in \u001b[0;36mcompute\u001b[0;34m(self, arg_1, arg_2)\u001b[0m\n\u001b[1;32m    581\u001b[0m         \"\"\"\n\u001b[1;32m    582\u001b[0m \u001b[0;34m\u001b[0m\u001b[0m\n\u001b[0;32m--> 583\u001b[0;31m         return float(exp(-1. * norm(array(arg_1) - array(arg_2)) ** 2 /\\\n\u001b[0m\u001b[1;32m    584\u001b[0m             (2 * self.sigma ** 2)))\n\u001b[1;32m    585\u001b[0m \u001b[0;34m\u001b[0m\u001b[0m\n",
      "\u001b[0;31mKeyboardInterrupt\u001b[0m: "
     ]
    }
   ],
   "source": [
    "model.score(train_v, list(zip(train_i, train_l)))"
   ]
  },
  {
   "cell_type": "code",
   "execution_count": 18,
   "metadata": {},
   "outputs": [
    {
     "name": "stdout",
     "output_type": "stream",
     "text": "[0, 1, 2, 3, 4, 5, 6, 7, 8, 9]\n"
    }
   ],
   "source": [
    "print(list(np.unique(list(map(lambda x: x % 10, test_i)))))"
   ]
  },
  {
   "cell_type": "code",
   "execution_count": null,
   "metadata": {},
   "outputs": [],
   "source": []
  }
 ]
}