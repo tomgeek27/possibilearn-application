{
 "nbformat": 4,
 "nbformat_minor": 2,
 "metadata": {
  "language_info": {
   "name": "python",
   "codemirror_mode": {
    "name": "ipython",
    "version": 3
   }
  },
  "orig_nbformat": 2,
  "file_extension": ".py",
  "mimetype": "text/x-python",
  "name": "python",
  "npconvert_exporter": "python",
  "pygments_lexer": "ipython3",
  "version": 3
 },
 "cells": [
  {
   "cell_type": "markdown",
   "metadata": {},
   "source": [
    "# AT&T dataset faces"
   ]
  },
  {
   "cell_type": "code",
   "execution_count": null,
   "metadata": {},
   "outputs": [],
   "source": [
    "import cv2\n",
    "\n",
    "f = open(\"/content/drive/My\\ Drive/Tesi/AT&T_dataset_faces/dataset.txt\", 'w')\n",
    "\n",
    "for b in range(40):\n",
    "  for a in range(10):\n",
    "    data = cv2.imread(PROJ_COMPLETE_PATH + 'ATT_dataset_faces/s' + str(b + 1) + '/' + str(a + 1) +'.pgm', -1)\n",
    "    for line in data:\n",
    "      for pixel in line:\n",
    "        f.write(str(pixel) + \" \")\n",
    "    f.write('\\n')"
   ]
  },
  {
   "cell_type": "code",
   "execution_count": null,
   "metadata": {},
   "outputs": [],
   "source": [
    "def atet_data():\n",
    "  f_open = open(PROJ_COMPLETE_PATH + \"/src/dataset/AT_T_dataset_faces/dataset.txt\", 'r')\n",
    "  faces = []\n",
    "  for line in f_open:\n",
    "    faces.append([int(x) for x in line.split()])\n",
    "  return np.asarray(faces)\n",
    "\n",
    "def atet_labels():\n",
    "  return np.ravel([[a] * 10 for a in range(40)])"
   ]
  },
  {
   "cell_type": "code",
   "execution_count": null,
   "metadata": {},
   "outputs": [],
   "source": [
    "tsne_atet_data = get_tsne_data(atet_data())"
   ]
  }
 ]
}